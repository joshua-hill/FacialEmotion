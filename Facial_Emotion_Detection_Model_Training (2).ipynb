{
  "cells": [
    {
      "cell_type": "markdown",
      "metadata": {
        "id": "bg-DvjFCyXSr"
      },
      "source": [
        "# **Facial Emotion Detection**"
      ]
    },
    {
      "cell_type": "markdown",
      "metadata": {
        "id": "DYdEI31whyE-"
      },
      "source": [
        "\n",
        "## **About the dataset**\n",
        "\n",
        "The data set consists of 3 folders, i.e., 'test', 'train', and 'validation'.\n",
        "Each of these folders has four subfolders:\n",
        "\n",
        "**‘happy’**<br>\n",
        "**‘sad’**<br>\n",
        "**‘surprise’**<br>\n",
        "**‘neutral’**<br>\n"
      ]
    },
    {
      "cell_type": "code",
      "execution_count": 1,
      "metadata": {
        "colab": {
          "base_uri": "https://localhost:8080/"
        },
        "id": "JQi_degJC3dm",
        "outputId": "e0622088-d9a1-472d-8f92-1b86cd358c49"
      },
      "outputs": [
        {
          "output_type": "stream",
          "name": "stdout",
          "text": [
            "Mounted at /content/drive\n"
          ]
        }
      ],
      "source": [
        "from google.colab import drive\n",
        "drive.mount('/content/drive')"
      ]
    },
    {
      "cell_type": "code",
      "execution_count": 2,
      "metadata": {
        "id": "30fd2144"
      },
      "outputs": [],
      "source": [
        "import random\n",
        "\n",
        "import zipfile\n",
        "import os\n",
        "\n",
        "import pandas as pd\n",
        "import numpy as np\n",
        "\n",
        "import matplotlib.pyplot as plt\n",
        "import seaborn as sns\n",
        "\n",
        "import tensorflow as tf\n",
        "\n",
        "from tensorflow.keras.utils import to_categorical\n",
        "from tensorflow.keras.preprocessing import image_dataset_from_directory\n",
        "\n",
        "# To create an ANN model\n",
        "from tensorflow.keras.models import Sequential\n",
        "from tensorflow.keras.layers import Dense, Dropout, Flatten, BatchNormalization, Conv2D, LeakyReLU, MaxPooling2D\n",
        "\n",
        "# To create a checkpoint and save the best model\n",
        "from tensorflow.keras.callbacks import ModelCheckpoint, EarlyStopping\n",
        "\n",
        "\n",
        "# To load the model\n",
        "from tensorflow.keras.models import load_model\n",
        "\n",
        "from tensorflow.keras.optimizers.legacy import Adam\n",
        "\n",
        "# To evaluate the model\n",
        "from sklearn.metrics import classification_report, confusion_matrix\n",
        "from sklearn.preprocessing import LabelBinarizer"
      ]
    },
    {
      "cell_type": "code",
      "source": [
        "def plot_epoch(history):\n",
        "  plt.figure(figsize=(12, 6))\n",
        "  plt.plot(history.history['accuracy'])\n",
        "  plt.plot(history.history['val_accuracy'])\n",
        "  plt.title('Model accuracy')\n",
        "  plt.ylabel('Accuracy')\n",
        "  plt.xlabel('Epoch')\n",
        "  plt.legend(['Train', 'Validation'], loc='upper left')\n",
        "  plt.show()"
      ],
      "metadata": {
        "id": "1_q_Q6wGWnFh"
      },
      "execution_count": 90,
      "outputs": []
    },
    {
      "cell_type": "code",
      "execution_count": 3,
      "metadata": {
        "id": "sMfr4tK04C0o"
      },
      "outputs": [],
      "source": [
        "zip_ref = zipfile.ZipFile(\"/content/drive/MyDrive/Facial_Emotes/Facial_emotion_images.zip\", 'r')\n",
        "zip_ref.extractall(\"/tmp\")\n",
        "zip_ref.close()\n",
        "\n",
        "\n",
        "\n",
        "\n"
      ]
    },
    {
      "cell_type": "code",
      "execution_count": null,
      "metadata": {
        "colab": {
          "base_uri": "https://localhost:8080/"
        },
        "id": "m7rCOsTl-HbZ",
        "outputId": "52576635-b75f-4f0c-d4e5-a98e339fce96"
      },
      "outputs": [
        {
          "name": "stdout",
          "output_type": "stream",
          "text": [
            "amount of sad images in train: 3982\n",
            "amount of sad images in validation: 1139\n",
            "amount of happy images in train: 3976\n",
            "amount of happy images in validation: 1825\n",
            "amount of neutral images in train: 3978\n",
            "amount of neutral images in validation: 1216\n",
            "amount of surprised images in train: 3173\n",
            "amount of surprised images in validation: 797\n"
          ]
        }
      ],
      "source": [
        "directory_path = \"/tmp/Facial_emotion_images/train/sad\"\n",
        "print(\"amount of sad images in train: \" + str(len(os.listdir(directory_path))))\n",
        "directory_path = \"/tmp/Facial_emotion_images/validation/sad\"\n",
        "print(\"amount of sad images in validation: \" + str(len(os.listdir(directory_path))))\n",
        "\n",
        "directory_path = \"/tmp/Facial_emotion_images/train/happy\"\n",
        "print(\"amount of happy images in train: \" + str(len(os.listdir(directory_path))))\n",
        "directory_path = \"/tmp/Facial_emotion_images/validation/happy\"\n",
        "print(\"amount of happy images in validation: \" + str(len(os.listdir(directory_path))))\n",
        "\n",
        "directory_path = \"/tmp/Facial_emotion_images/train/neutral\"\n",
        "print(\"amount of neutral images in train: \" + str(len(os.listdir(directory_path))))\n",
        "directory_path = \"/tmp/Facial_emotion_images/validation/neutral\"\n",
        "print(\"amount of neutral images in validation: \" + str(len(os.listdir(directory_path))))\n",
        "\n",
        "directory_path = \"/tmp/Facial_emotion_images/train/surprise\"\n",
        "print(\"amount of surprised images in train: \" + str(len(os.listdir(directory_path))))\n",
        "directory_path = \"/tmp/Facial_emotion_images/validation/surprise\"\n",
        "print(\"amount of surprised images in validation: \" + str(len(os.listdir(directory_path))))"
      ]
    },
    {
      "cell_type": "code",
      "source": [
        "train_dir = \"/tmp/Facial_emotion_images/train\"\n",
        "\n",
        "batch_size = 32\n",
        "image_size = (48, 48)\n",
        "\n",
        "train_ds = tf.keras.utils.image_dataset_from_directory(\n",
        "  train_dir,\n",
        "  seed=123,\n",
        "  color_mode = \"grayscale\",\n",
        "  label_mode='categorical',\n",
        "  image_size=image_size,\n",
        "  batch_size=batch_size)\n",
        "\n",
        "val_dir = \"/tmp/Facial_emotion_images/validation\"\n",
        "\n",
        "val_ds = tf.keras.utils.image_dataset_from_directory(\n",
        "  val_dir,\n",
        "  seed=123,\n",
        "  color_mode = \"grayscale\",\n",
        "  label_mode='categorical',\n",
        "  image_size=image_size,\n",
        "  batch_size=batch_size)\n",
        "\n",
        "test_dir = \"/tmp/Facial_emotion_images/test\"\n",
        "\n",
        "test_ds = tf.keras.utils.image_dataset_from_directory(\n",
        "  val_dir,\n",
        "  seed=123,\n",
        "  color_mode = \"grayscale\",\n",
        "  label_mode='categorical',\n",
        "  image_size=image_size,\n",
        "  batch_size=batch_size)\n",
        "\n",
        "print(train_ds.class_names)"
      ],
      "metadata": {
        "colab": {
          "base_uri": "https://localhost:8080/"
        },
        "id": "vjvcqgsJvbfH",
        "outputId": "19599a9c-c4a4-40c1-8f9a-26c3b55c5f4d"
      },
      "execution_count": 82,
      "outputs": [
        {
          "output_type": "stream",
          "name": "stdout",
          "text": [
            "Found 15109 files belonging to 4 classes.\n",
            "Found 4977 files belonging to 4 classes.\n",
            "Found 4977 files belonging to 4 classes.\n",
            "['happy', 'neutral', 'sad', 'surprise']\n"
          ]
        }
      ]
    },
    {
      "cell_type": "code",
      "source": [
        "plt.figure(figsize=(4, 4))\n",
        "for images, labels in train_ds.take(1):\n",
        "  for i in range(9):\n",
        "    ax = plt.subplot(3, 3, i + 1)\n",
        "    plt.imshow(images[i].numpy().astype(\"uint8\"))\n",
        "    plt.title(train_ds.class_names[labels[i]])\n",
        "    plt.axis(\"off\")"
      ],
      "metadata": {
        "colab": {
          "base_uri": "https://localhost:8080/",
          "height": 367
        },
        "id": "sYOT2K9ew1qu",
        "outputId": "bb503d0e-91cb-444f-d87b-8f3b08c4c584"
      },
      "execution_count": 17,
      "outputs": [
        {
          "output_type": "display_data",
          "data": {
            "text/plain": [
              "<Figure size 400x400 with 9 Axes>"
            ],
            "image/png": "[encoded data removed]"
          },
          "metadata": {}
        }
      ]
    },
    {
      "cell_type": "code",
      "execution_count": 18,
      "metadata": {
        "id": "W3fDGCdGho7I"
      },
      "outputs": [],
      "source": [
        "tf.random.set_seed(0)\n",
        "np.random.seed(0)\n",
        "random.seed(0)"
      ]
    },
    {
      "cell_type": "code",
      "source": [
        "AUTOTUNE = tf.data.AUTOTUNE\n",
        "\n",
        "train_ds = train_ds.cache().prefetch(buffer_size=AUTOTUNE)\n",
        "val_ds = val_ds.cache().prefetch(buffer_size=AUTOTUNE)"
      ],
      "metadata": {
        "id": "kXOwRHV-0E6W"
      },
      "execution_count": 25,
      "outputs": []
    },
    {
      "cell_type": "code",
      "execution_count": 48,
      "metadata": {
        "id": "151077af"
      },
      "outputs": [],
      "source": [
        "num_samples = 15109\n",
        "steps_per_epoch = 23\n",
        "\n",
        "num_val_samples = 4977\n",
        "val_steps = 24\n",
        "\n",
        "num_classes = 4\n",
        "\n",
        "def cnn_model_gray_1():\n",
        "    model = Sequential()\n",
        "\n",
        "    model.add(tf.keras.layers.Rescaling(1./255))\n",
        "\n",
        "    model.add(Conv2D(16, kernel_size=(3, 3), padding='same', input_shape=(256, 256, 3)))\n",
        "\n",
        "    model.add(LeakyReLU(alpha=0.1))\n",
        "\n",
        "    model.add(Conv2D(32, kernel_size=(3, 3), padding='same'))\n",
        "\n",
        "    model.add(LeakyReLU(alpha=0.1))\n",
        "\n",
        "    model.add(MaxPooling2D(pool_size=(2, 2)))\n",
        "\n",
        "    model.add(Flatten())\n",
        "\n",
        "    model.add(Dense(32))\n",
        "\n",
        "    model.add(LeakyReLU(alpha=0.1))\n",
        "\n",
        "    model.add(Dense(num_classes, activation='softmax'))\n",
        "\n",
        "    model.compile(optimizer=Adam(learning_rate=0.001),\n",
        "                  loss='categorical_crossentropy',\n",
        "                  metrics=['accuracy'])\n",
        "\n",
        "    return model\n",
        "\n",
        "model_rgb_1 = cnn_model_gray_1()"
      ]
    },
    {
      "cell_type": "code",
      "execution_count": null,
      "metadata": {
        "id": "s6FLbVZryqbK"
      },
      "outputs": [],
      "source": [
        "!cat /usr/include/cudnn.h | grep CUDNN_MAJOR -A 2"
      ]
    },
    {
      "cell_type": "markdown",
      "metadata": {
        "id": "vgOwCHZxqAlG"
      },
      "source": [
        "### **Compiling and Training the Model**"
      ]
    },
    {
      "cell_type": "code",
      "execution_count": 47,
      "metadata": {
        "id": "87b29701",
        "colab": {
          "base_uri": "https://localhost:8080/"
        },
        "outputId": "cc67001c-e4a5-4241-fc54-4b7ea51e0cf1"
      },
      "outputs": [
        {
          "output_type": "stream",
          "name": "stdout",
          "text": [
            "Number of images: 15109\n"
          ]
        }
      ],
      "source": [
        "print('Number of images:', len(train_ds.file_paths))"
      ]
    },
    {
      "cell_type": "code",
      "execution_count": 49,
      "metadata": {
        "id": "Pzh4OrH8LaaI",
        "colab": {
          "base_uri": "https://localhost:8080/"
        },
        "outputId": "f4ef9855-27fc-4707-80d7-92bddf4e9781"
      },
      "outputs": [
        {
          "output_type": "stream",
          "name": "stdout",
          "text": [
            "Epoch 1/20\n",
            "23/23 [==============================] - 1s 25ms/step - loss: 1.4044 - accuracy: 0.2826 - val_loss: 1.3865 - val_accuracy: 0.2843\n",
            "Epoch 2/20\n",
            "23/23 [==============================] - 0s 19ms/step - loss: 1.3650 - accuracy: 0.3315 - val_loss: 1.3152 - val_accuracy: 0.3783\n",
            "Epoch 3/20\n",
            "23/23 [==============================] - 0s 19ms/step - loss: 1.2953 - accuracy: 0.4185 - val_loss: 1.2476 - val_accuracy: 0.4213\n",
            "Epoch 4/20\n",
            "23/23 [==============================] - 0s 19ms/step - loss: 1.2524 - accuracy: 0.4253 - val_loss: 1.1887 - val_accuracy: 0.4465\n",
            "Epoch 5/20\n",
            "23/23 [==============================] - 0s 19ms/step - loss: 1.2268 - accuracy: 0.4280 - val_loss: 1.1793 - val_accuracy: 0.4483\n",
            "Epoch 6/20\n",
            "23/23 [==============================] - 0s 19ms/step - loss: 1.1527 - accuracy: 0.4783 - val_loss: 1.1064 - val_accuracy: 0.5242\n",
            "Epoch 7/20\n",
            "23/23 [==============================] - 0s 20ms/step - loss: 1.1090 - accuracy: 0.5489 - val_loss: 1.0910 - val_accuracy: 0.5230\n",
            "Epoch 8/20\n",
            "23/23 [==============================] - 0s 20ms/step - loss: 1.1034 - accuracy: 0.5163 - val_loss: 1.0639 - val_accuracy: 0.5389\n",
            "Epoch 9/20\n",
            "23/23 [==============================] - 0s 20ms/step - loss: 1.0800 - accuracy: 0.5380 - val_loss: 1.0415 - val_accuracy: 0.5680\n",
            "Epoch 10/20\n",
            "23/23 [==============================] - 0s 19ms/step - loss: 1.0838 - accuracy: 0.5394 - val_loss: 1.0279 - val_accuracy: 0.5670\n",
            "Epoch 11/20\n",
            "23/23 [==============================] - 0s 20ms/step - loss: 1.0682 - accuracy: 0.5367 - val_loss: 1.0177 - val_accuracy: 0.5678\n",
            "Epoch 12/20\n",
            "23/23 [==============================] - 0s 19ms/step - loss: 1.0747 - accuracy: 0.5380 - val_loss: 0.9884 - val_accuracy: 0.5819\n",
            "Epoch 13/20\n",
            "23/23 [==============================] - 0s 19ms/step - loss: 1.0337 - accuracy: 0.5693 - val_loss: 1.0084 - val_accuracy: 0.5700\n",
            "Epoch 14/20\n",
            "23/23 [==============================] - 0s 19ms/step - loss: 1.0114 - accuracy: 0.5611 - val_loss: 0.9633 - val_accuracy: 0.5975\n",
            "Epoch 15/20\n",
            "23/23 [==============================] - 0s 20ms/step - loss: 0.9866 - accuracy: 0.5951 - val_loss: 0.9700 - val_accuracy: 0.5927\n",
            "Epoch 16/20\n",
            "23/23 [==============================] - 0s 20ms/step - loss: 0.9682 - accuracy: 0.5666 - val_loss: 0.9498 - val_accuracy: 0.5998\n",
            "Epoch 17/20\n",
            "23/23 [==============================] - 0s 20ms/step - loss: 0.9596 - accuracy: 0.6087 - val_loss: 0.9342 - val_accuracy: 0.6042\n",
            "Epoch 18/20\n",
            "23/23 [==============================] - 0s 20ms/step - loss: 0.9542 - accuracy: 0.5883 - val_loss: 1.0063 - val_accuracy: 0.5765\n",
            "Epoch 19/20\n",
            "23/23 [==============================] - 0s 20ms/step - loss: 1.0028 - accuracy: 0.5707 - val_loss: 0.9705 - val_accuracy: 0.5875\n",
            "Epoch 20/20\n",
            "23/23 [==============================] - 0s 20ms/step - loss: 0.9219 - accuracy: 0.5992 - val_loss: 1.0052 - val_accuracy: 0.5740\n"
          ]
        }
      ],
      "source": [
        "#Adding earlystop callback to prevent overfitting\n",
        "early_stop = EarlyStopping(monitor='val_loss', mode='min', verbose=2, patience=10)\n",
        "\n",
        "\n",
        "\n",
        "history_rgb_1 = model_rgb_1.fit(\n",
        "    train_ds,\n",
        "    validation_data = val_ds,\n",
        "    steps_per_epoch=steps_per_epoch,\n",
        "    epochs=20,\n",
        "    callbacks=[early_stop]\n",
        ")"
      ]
    },
    {
      "cell_type": "markdown",
      "metadata": {
        "id": "CR2yf3zH7uje"
      },
      "source": [
        "### **Evaluating the Model on the Test Set**"
      ]
    },
    {
      "cell_type": "code",
      "execution_count": 69,
      "metadata": {
        "colab": {
          "base_uri": "https://localhost:8080/"
        },
        "id": "gffvQXr-70Hm",
        "outputId": "c1e13fb4-57b5-44e1-d483-2645bd3410fc"
      },
      "outputs": [
        {
          "output_type": "stream",
          "name": "stdout",
          "text": [
            "156/156 [==============================] - 0s 2ms/step\n"
          ]
        }
      ],
      "source": [
        "pred_rgb_1 = model_rgb_1.predict(test_ds)"
      ]
    },
    {
      "cell_type": "code",
      "source": [
        "pred_rgb_1 = [np.argmax(i) for i in pred_rgb_1]\n",
        "print(pred_rgb_1)"
      ],
      "metadata": {
        "colab": {
          "base_uri": "https://localhost:8080/"
        },
        "id": "vEaBt1tfPYV2",
        "outputId": "e9af0f9a-3377-46a4-d8e5-0a4d24b0e973"
      },
      "execution_count": 70,
      "outputs": [
        {
          "output_type": "stream",
          "name": "stdout",
          "text": [
            "[3, 0, 2, 3, 0, 1, 2, 3, 0, 0, 0, 3, 0, 2, 0, 2, 3, 1, 1, 0, 3, 0, 2, 0, 1, 3, 2, 1, 2, 2, 0, 0, 0, 3, 1, 0, 2, 0, 3, 3, 1, 2, 1, 3, 0, 3, 3, 0, 0, 2, 1, 0, 2, 0, 3, 1, 2, 1, 3, 2, 0, 0, 2, 2, 0, 3, 1, 1, 1, 0, 1, 2, 1, 0, 2, 2, 2, 2, 3, 2, 0, 3, 2, 1, 3, 3, 3, 0, 2, 2, 3, 1, 2, 1, 3, 3, 1, 0, 0, 3, 1, 0, 3, 0, 0, 3, 0, 3, 2, 3, 1, 0, 3, 0, 0, 2, 1, 0, 1, 2, 2, 0, 2, 1, 3, 0, 2, 3, 3, 2, 1, 0, 2, 3, 0, 2, 0, 0, 3, 2, 0, 0, 3, 0, 2, 0, 3, 3, 1, 3, 1, 3, 0, 2, 3, 0, 1, 3, 2, 1, 0, 3, 2, 0, 0, 2, 2, 3, 1, 3, 1, 3, 3, 1, 0, 0, 3, 3, 3, 3, 0, 3, 3, 2, 2, 2, 2, 0, 3, 0, 3, 0, 0, 3, 0, 2, 1, 0, 1, 3, 0, 2, 0, 0, 3, 0, 0, 0, 2, 0, 0, 0, 1, 0, 0, 3, 0, 3, 0, 1, 1, 0, 1, 0, 1, 0, 3, 1, 2, 1, 1, 2, 1, 1, 2, 3, 0, 1, 0, 1, 3, 2, 0, 2, 3, 0, 2, 3, 1, 3, 0, 1, 3, 2, 0, 0, 0, 3, 2, 2, 2, 0, 3, 3, 2, 3, 0, 0, 3, 1, 1, 0, 2, 3, 2, 3, 0, 3, 0, 3, 2, 2, 3, 3, 3, 0, 3, 0, 0, 3, 3, 2, 2, 1, 0, 1, 1, 2, 0, 2, 2, 0, 3, 2, 0, 3, 1, 2, 0, 2, 0, 3, 2, 0, 2, 3, 3, 3, 3, 0, 3, 0, 3, 3, 1, 2, 1, 2, 3, 1, 0, 2, 1, 1, 0, 0, 1, 1, 2, 1, 0, 3, 2, 1, 0, 1, 1, 3, 0, 0, 2, 3, 3, 3, 3, 2, 2, 1, 3, 3, 0, 0, 3, 0, 0, 3, 2, 3, 3, 2, 3, 0, 2, 3, 0, 3, 1, 0, 0, 0, 1, 1, 1, 2, 3, 3, 1, 1, 0, 0, 2, 0, 1, 2, 1, 3, 3, 2, 0, 2, 2, 1, 2, 1, 1, 2, 3, 0, 3, 3, 3, 3, 2, 3, 3, 3, 0, 0, 3, 3, 0, 2, 0, 3, 2, 3, 1, 3, 3, 0, 1, 0, 0, 0, 2, 3, 3, 0, 1, 3, 0, 0, 2, 1, 0, 1, 3, 3, 1, 0, 0, 2, 2, 0, 1, 0, 3, 2, 3, 2, 0, 1, 1, 0, 2, 3, 2, 3, 0, 3, 3, 3, 0, 0, 1, 3, 0, 3, 3, 1, 0, 3, 3, 2, 3, 1, 0, 0, 0, 1, 0, 0, 2, 3, 3, 1, 3, 3, 0, 1, 2, 1, 0, 2, 2, 3, 0, 2, 0, 1, 0, 3, 1, 3, 2, 0, 2, 3, 3, 0, 1, 0, 1, 0, 0, 1, 2, 1, 2, 3, 1, 3, 0, 2, 3, 3, 0, 1, 0, 2, 3, 2, 0, 1, 2, 1, 1, 0, 3, 1, 2, 2, 2, 1, 2, 3, 1, 0, 2, 0, 2, 2, 2, 1, 0, 0, 0, 2, 2, 0, 0, 2, 1, 2, 2, 2, 3, 0, 0, 0, 1, 3, 0, 1, 2, 0, 1, 3, 3, 1, 0, 2, 2, 0, 0, 0, 0, 0, 3, 0, 0, 0, 3, 0, 3, 2, 0, 3, 0, 2, 0, 0, 2, 2, 3, 1, 0, 3, 1, 2, 3, 1, 0, 0, 3, 1, 2, 2, 2, 1, 0, 2, 1, 2, 0, 3, 0, 0, 2, 2, 1, 0, 3, 3, 2, 0, 3, 2, 3, 1, 3, 3, 1, 1, 3, 1, 0, 3, 3, 2, 3, 2, 2, 3, 3, 2, 0, 0, 1, 0, 2, 3, 0, 0, 0, 2, 2, 0, 3, 3, 3, 2, 0, 0, 1, 0, 3, 2, 3, 2, 3, 0, 1, 0, 1, 1, 1, 1, 0, 1, 2, 2, 3, 1, 0, 0, 0, 3, 0, 2, 2, 0, 3, 2, 0, 3, 0, 3, 1, 1, 0, 1, 0, 0, 1, 3, 1, 3, 0, 1, 3, 1, 1, 0, 0, 1, 2, 2, 0, 2, 1, 1, 3, 0, 3, 1, 3, 0, 0, 0, 3, 2, 3, 3, 0, 1, 0, 2, 1, 1, 2, 3, 2, 0, 2, 0, 3, 2, 2, 3, 3, 2, 1, 1, 0, 0, 1, 3, 3, 3, 2, 2, 1, 0, 0, 2, 2, 0, 3, 0, 3, 3, 2, 1, 3, 2, 3, 0, 1, 3, 0, 3, 2, 2, 0, 3, 1, 1, 2, 3, 1, 3, 0, 1, 1, 3, 1, 3, 2, 0, 2, 0, 3, 0, 0, 2, 0, 1, 1, 2, 0, 0, 2, 0, 2, 0, 3, 3, 1, 3, 3, 0, 0, 1, 0, 0, 3, 1, 3, 2, 3, 3, 0, 2, 2, 2, 2, 2, 0, 0, 2, 2, 1, 2, 1, 2, 0, 1, 3, 3, 2, 3, 2, 0, 3, 0, 3, 0, 2, 0, 2, 0, 3, 2, 3, 0, 2, 3, 3, 3, 2, 3, 1, 3, 0, 0, 0, 0, 1, 1, 1, 0, 0, 3, 3, 1, 1, 2, 3, 1, 3, 1, 2, 1, 2, 0, 0, 3, 3, 3, 2, 3, 1, 2, 3, 0, 3, 2, 3, 1, 2, 0, 2, 2, 3, 1, 3, 0, 3, 3, 1, 1, 0, 3, 0, 0, 0, 2, 0, 1, 0, 0, 0, 2, 2, 1, 1, 2, 0, 3, 0, 3, 3, 3, 1, 2, 2, 3, 2, 1, 0, 2, 0, 3, 3, 2, 3, 1, 3, 0, 2, 2, 1, 3, 2, 0, 3, 0, 2, 0, 3, 1, 0, 3, 1, 1, 3, 3, 0, 0, 0, 0, 0, 0, 1, 3, 1, 3, 1, 0, 0, 2, 3, 1, 1, 2, 3, 1, 3, 2, 1, 0, 2, 3, 3, 1, 0, 3, 2, 1, 2, 2, 2, 2, 2, 2, 1, 3, 2, 1, 0, 2, 3, 1, 0, 2, 3, 3, 3, 0, 0, 1, 0, 2, 3, 0, 3, 0, 2, 3, 0, 2, 2, 0, 3, 3, 3, 0, 3, 0, 3, 1, 2, 3, 0, 1, 2, 3, 1, 1, 0, 0, 0, 1, 3, 0, 0, 0, 0, 3, 0, 3, 3, 1, 1, 3, 0, 0, 2, 0, 3, 2, 1, 3, 3, 2, 1, 2, 0, 0, 2, 0, 2, 3, 2, 3, 1, 0, 0, 2, 0, 3, 3, 1, 2, 3, 1, 2, 1, 2, 3, 0, 3, 0, 1, 0, 3, 0, 3, 0, 2, 0, 2, 3, 1, 2, 0, 2, 1, 0, 0, 0, 3, 2, 1, 2, 1, 3, 0, 3, 2, 1, 0, 3, 2, 2, 0, 0, 0, 1, 3, 2, 2, 2, 1, 2, 0, 3, 3, 1, 0, 0, 0, 0, 1, 0, 2, 2, 1, 0, 3, 2, 0, 3, 0, 0, 1, 2, 3, 0, 0, 0, 0, 2, 0, 0, 0, 2, 3, 3, 2, 0, 2, 2, 2, 2, 1, 3, 1, 1, 3, 3, 1, 3, 0, 3, 1, 2, 0, 0, 0, 1, 0, 1, 1, 1, 2, 1, 0, 1, 0, 2, 0, 0, 3, 0, 3, 3, 0, 1, 0, 1, 3, 2, 0, 0, 1, 2, 2, 3, 2, 3, 3, 2, 2, 0, 0, 0, 2, 1, 0, 0, 2, 2, 1, 1, 2, 1, 2, 2, 2, 3, 3, 3, 3, 0, 0, 0, 0, 2, 2, 0, 3, 0, 3, 3, 1, 2, 0, 2, 3, 0, 1, 1, 0, 1, 3, 3, 3, 0, 3, 2, 3, 0, 0, 3, 1, 3, 0, 2, 2, 2, 1, 0, 3, 1, 3, 3, 0, 0, 2, 3, 2, 1, 0, 1, 2, 2, 3, 3, 3, 2, 3, 0, 0, 3, 3, 1, 2, 0, 1, 3, 3, 2, 1, 0, 3, 1, 3, 0, 0, 0, 2, 0, 2, 0, 0, 2, 0, 2, 1, 0, 0, 1, 2, 1, 2, 2, 3, 2, 1, 3, 1, 1, 3, 1, 2, 0, 3, 0, 2, 0, 2, 0, 3, 0, 3, 0, 3, 2, 0, 0, 3, 1, 2, 2, 1, 1, 1, 2, 2, 2, 3, 0, 3, 2, 0, 3, 1, 3, 3, 3, 0, 1, 1, 2, 1, 3, 1, 0, 3, 0, 2, 1, 0, 3, 1, 0, 2, 1, 0, 3, 2, 1, 0, 1, 2, 0, 2, 3, 0, 1, 3, 2, 3, 3, 3, 1, 3, 3, 1, 0, 1, 0, 3, 3, 0, 0, 0, 3, 2, 1, 2, 0, 3, 1, 3, 0, 0, 3, 2, 3, 1, 3, 2, 0, 1, 2, 3, 3, 0, 3, 1, 0, 1, 0, 3, 1, 2, 2, 0, 2, 2, 0, 3, 3, 1, 3, 3, 3, 0, 0, 0, 2, 0, 1, 0, 0, 0, 1, 3, 3, 2, 0, 1, 2, 2, 2, 0, 0, 1, 3, 1, 2, 0, 3, 0, 3, 0, 0, 2, 2, 0, 2, 0, 1, 3, 3, 2, 0, 2, 0, 0, 0, 2, 2, 2, 3, 1, 2, 1, 0, 2, 0, 0, 1, 1, 1, 0, 2, 2, 2, 0, 1, 0, 3, 3, 3, 0, 0, 0, 1, 0, 0, 2, 0, 3, 0, 2, 3, 0, 2, 3, 1, 2, 1, 2, 2, 2, 2, 3, 3, 2, 0, 3, 1, 0, 0, 3, 0, 2, 0, 2, 0, 2, 2, 3, 1, 2, 1, 3, 0, 2, 3, 0, 0, 2, 3, 0, 0, 1, 1, 3, 0, 0, 0, 0, 2, 2, 3, 2, 1, 3, 3, 1, 0, 1, 2, 0, 0, 0, 0, 2, 0, 0, 0, 0, 1, 2, 1, 0, 3, 1, 1, 0, 0, 0, 0, 2, 3, 3, 1, 1, 0, 0, 2, 0, 3, 0, 1, 1, 2, 2, 0, 0, 3, 3, 3, 3, 1, 2, 0, 0, 3, 0, 2, 2, 1, 3, 1, 3, 2, 3, 2, 2, 3, 1, 0, 0, 3, 0, 2, 2, 0, 0, 0, 3, 2, 0, 1, 0, 2, 0, 0, 3, 2, 0, 1, 1, 1, 3, 0, 3, 3, 0, 2, 3, 0, 0, 2, 0, 3, 2, 3, 3, 1, 1, 3, 3, 0, 0, 0, 1, 3, 0, 2, 1, 2, 0, 3, 0, 1, 1, 1, 2, 0, 2, 3, 1, 1, 3, 0, 3, 3, 2, 0, 2, 2, 0, 0, 2, 3, 0, 0, 0, 2, 0, 2, 2, 0, 3, 0, 2, 3, 3, 0, 3, 2, 2, 3, 2, 1, 1, 0, 0, 0, 2, 3, 0, 3, 0, 1, 2, 2, 0, 1, 2, 0, 3, 1, 3, 3, 2, 3, 2, 1, 1, 0, 3, 0, 3, 0, 0, 1, 0, 1, 2, 3, 2, 2, 0, 1, 3, 3, 3, 2, 3, 0, 1, 1, 3, 1, 2, 0, 0, 3, 0, 1, 2, 0, 0, 1, 3, 0, 2, 3, 3, 3, 2, 1, 1, 2, 0, 0, 2, 0, 0, 3, 2, 3, 2, 1, 3, 2, 2, 0, 0, 1, 1, 3, 1, 0, 0, 2, 3, 0, 1, 2, 0, 0, 3, 2, 2, 2, 2, 3, 2, 2, 1, 3, 0, 0, 3, 3, 1, 3, 0, 0, 0, 2, 2, 2, 0, 0, 2, 0, 3, 1, 1, 0, 3, 3, 2, 1, 3, 1, 3, 2, 3, 3, 0, 0, 2, 2, 2, 2, 3, 0, 2, 0, 0, 2, 0, 2, 2, 3, 2, 1, 1, 1, 0, 0, 0, 0, 0, 2, 0, 2, 1, 0, 3, 2, 3, 3, 0, 0, 0, 1, 2, 2, 0, 2, 2, 2, 0, 1, 1, 2, 0, 0, 0, 3, 1, 3, 1, 2, 3, 1, 3, 2, 2, 2, 0, 1, 0, 1, 0, 1, 3, 2, 3, 2, 3, 3, 3, 0, 2, 1, 3, 0, 1, 2, 1, 0, 2, 0, 3, 2, 0, 3, 1, 0, 2, 0, 0, 2, 2, 3, 3, 2, 3, 0, 3, 0, 0, 2, 2, 0, 1, 1, 1, 2, 1, 3, 3, 0, 1, 1, 3, 3, 3, 3, 2, 2, 1, 0, 0, 0, 0, 3, 3, 0, 1, 1, 3, 2, 0, 0, 1, 3, 2, 2, 2, 3, 3, 3, 0, 0, 3, 1, 1, 0, 1, 3, 3, 1, 1, 3, 3, 1, 0, 3, 1, 3, 3, 2, 2, 3, 0, 0, 0, 2, 0, 2, 3, 1, 2, 0, 3, 0, 3, 0, 3, 3, 2, 2, 1, 1, 1, 0, 0, 3, 3, 2, 1, 2, 3, 3, 1, 3, 2, 0, 2, 3, 0, 1, 2, 1, 2, 3, 1, 2, 2, 3, 1, 3, 3, 0, 2, 1, 1, 2, 3, 1, 3, 3, 0, 3, 2, 2, 2, 3, 3, 3, 1, 2, 2, 3, 3, 2, 3, 3, 0, 2, 3, 0, 3, 1, 1, 2, 1, 0, 1, 1, 0, 0, 2, 2, 3, 2, 3, 0, 1, 0, 0, 1, 1, 3, 0, 2, 2, 0, 0, 3, 3, 3, 0, 2, 0, 2, 0, 1, 2, 3, 3, 3, 0, 0, 1, 1, 0, 2, 0, 2, 3, 3, 1, 3, 0, 3, 0, 3, 3, 0, 0, 3, 2, 1, 3, 2, 2, 0, 3, 2, 2, 1, 1, 0, 1, 2, 1, 3, 0, 1, 0, 1, 3, 3, 0, 2, 3, 2, 2, 2, 3, 2, 2, 2, 2, 0, 3, 3, 0, 2, 1, 3, 0, 2, 3, 3, 3, 2, 0, 0, 2, 2, 0, 3, 1, 0, 3, 1, 1, 2, 2, 3, 0, 3, 0, 0, 0, 1, 3, 2, 3, 2, 3, 0, 0, 0, 2, 2, 1, 0, 3, 0, 0, 1, 2, 0, 0, 2, 3, 2, 3, 0, 0, 0, 1, 3, 1, 0, 3, 0, 1, 2, 0, 0, 3, 3, 1, 0, 3, 0, 0, 2, 1, 0, 2, 1, 0, 0, 0, 0, 2, 3, 3, 3, 0, 2, 2, 0, 2, 1, 1, 2, 2, 1, 0, 3, 0, 1, 3, 2, 3, 2, 2, 2, 1, 3, 2, 3, 0, 3, 3, 1, 3, 3, 0, 1, 2, 1, 3, 2, 3, 3, 3, 1, 0, 3, 3, 2, 1, 3, 2, 3, 2, 0, 1, 0, 0, 1, 2, 2, 1, 0, 3, 3, 1, 2, 2, 3, 0, 0, 1, 2, 0, 2, 0, 3, 2, 1, 1, 1, 0, 3, 2, 0, 1, 1, 1, 1, 3, 1, 3, 0, 3, 3, 2, 3, 2, 2, 0, 2, 1, 3, 0, 3, 0, 2, 0, 3, 3, 2, 1, 2, 2, 2, 2, 0, 1, 3, 3, 0, 2, 3, 0, 0, 2, 1, 0, 3, 3, 3, 1, 1, 2, 2, 0, 3, 2, 0, 2, 0, 2, 0, 1, 2, 3, 3, 0, 2, 2, 1, 1, 0, 3, 1, 2, 2, 0, 3, 3, 3, 2, 3, 3, 3, 3, 1, 3, 2, 0, 2, 0, 0, 1, 0, 2, 3, 0, 3, 3, 3, 3, 3, 2, 2, 3, 0, 2, 3, 3, 2, 1, 1, 0, 3, 2, 3, 1, 2, 3, 3, 2, 3, 0, 0, 3, 1, 2, 0, 2, 3, 0, 0, 2, 2, 1, 3, 0, 0, 0, 0, 2, 3, 1, 0, 2, 3, 3, 0, 2, 0, 2, 0, 3, 2, 2, 2, 1, 0, 3, 3, 0, 2, 0, 0, 2, 3, 3, 1, 1, 2, 0, 2, 2, 2, 2, 3, 2, 0, 3, 1, 2, 3, 0, 3, 0, 3, 3, 3, 1, 3, 2, 0, 2, 2, 0, 2, 0, 0, 3, 3, 3, 3, 1, 3, 1, 3, 2, 3, 0, 3, 3, 3, 2, 2, 2, 3, 0, 3, 0, 2, 0, 1, 2, 1, 3, 1, 2, 1, 3, 3, 1, 3, 1, 0, 0, 0, 0, 0, 0, 3, 1, 2, 2, 0, 0, 0, 0, 1, 3, 0, 3, 2, 1, 2, 2, 0, 2, 1, 3, 3, 0, 2, 2, 2, 3, 2, 0, 2, 0, 1, 3, 2, 3, 2, 0, 3, 3, 1, 0, 3, 1, 1, 0, 1, 2, 1, 2, 2, 1, 3, 0, 2, 1, 2, 1, 3, 3, 0, 0, 1, 0, 0, 0, 3, 2, 3, 0, 3, 0, 3, 0, 3, 3, 0, 1, 0, 3, 1, 1, 2, 0, 1, 1, 1, 3, 2, 0, 1, 1, 1, 1, 1, 3, 2, 1, 2, 2, 3, 2, 1, 0, 1, 2, 3, 3, 0, 0, 1, 3, 0, 0, 1, 0, 1, 1, 1, 0, 0, 2, 1, 2, 2, 0, 3, 1, 2, 1, 2, 1, 1, 3, 0, 3, 2, 1, 3, 2, 3, 3, 0, 2, 0, 1, 1, 3, 2, 1, 3, 1, 1, 0, 1, 0, 1, 1, 2, 3, 1, 0, 2, 0, 0, 0, 2, 0, 1, 1, 0, 0, 0, 3, 2, 2, 3, 3, 3, 2, 2, 2, 3, 0, 3, 0, 3, 0, 1, 3, 2, 2, 3, 2, 3, 2, 3, 1, 2, 3, 1, 0, 0, 3, 3, 3, 3, 3, 0, 3, 2, 2, 0, 1, 0, 3, 3, 3, 1, 2, 2, 0, 0, 0, 2, 2, 1, 1, 0, 3, 3, 0, 2, 3, 2, 3, 3, 2, 2, 0, 0, 3, 1, 1, 0, 3, 0, 2, 0, 0, 0, 0, 3, 3, 2, 1, 3, 3, 3, 1, 3, 1, 3, 2, 2, 3, 0, 0, 2, 3, 3, 1, 0, 2, 3, 3, 0, 2, 0, 3, 3, 2, 0, 3, 3, 2, 1, 1, 3, 2, 2, 2, 1, 2, 1, 3, 0, 3, 3, 1, 2, 3, 3, 0, 0, 3, 3, 0, 0, 1, 0, 1, 1, 2, 3, 3, 0, 2, 3, 0, 0, 0, 1, 0, 3, 3, 0, 1, 2, 2, 2, 1, 0, 0, 0, 3, 3, 1, 3, 3, 2, 0, 0, 1, 1, 0, 1, 2, 2, 0, 0, 3, 3, 1, 0, 1, 2, 1, 3, 3, 1, 1, 2, 3, 3, 3, 3, 0, 0, 3, 2, 1, 2, 1, 1, 0, 1, 3, 1, 2, 1, 3, 3, 0, 2, 0, 2, 0, 0, 0, 1, 3, 2, 2, 0, 3, 2, 1, 2, 1, 0, 1, 2, 1, 1, 0, 3, 3, 0, 2, 0, 1, 2, 2, 2, 0, 1, 2, 2, 2, 1, 1, 3, 3, 3, 1, 3, 0, 2, 3, 3, 3, 0, 0, 0, 2, 3, 1, 0, 2, 1, 2, 0, 0, 3, 2, 1, 0, 0, 3, 3, 1, 3, 3, 1, 3, 3, 0, 2, 3, 0, 3, 0, 3, 2, 0, 3, 3, 0, 0, 0, 0, 1, 3, 0, 1, 2, 3, 2, 2, 0, 3, 3, 1, 1, 1, 1, 3, 1, 1, 0, 3, 1, 0, 2, 2, 3, 3, 2, 3, 1, 0, 2, 2, 1, 1, 3, 3, 3, 0, 3, 2, 3, 0, 3, 3, 3, 0, 3, 3, 1, 0, 0, 0, 0, 2, 2, 3, 1, 1, 3, 0, 0, 3, 2, 0, 1, 0, 3, 0, 2, 0, 2, 3, 1, 0, 1, 2, 2, 2, 0, 0, 2, 3, 3, 2, 2, 2, 2, 0, 1, 0, 2, 3, 1, 0, 3, 3, 3, 1, 1, 0, 0, 0, 0, 1, 0, 0, 1, 0, 0, 3, 2, 2, 2, 0, 0, 1, 1, 2, 3, 1, 3, 0, 2, 1, 0, 0, 1, 1, 0, 0, 3, 0, 2, 2, 2, 0, 3, 3, 0, 2, 3, 2, 3, 1, 3, 0, 0, 1, 0, 3, 0, 2, 1, 1, 1, 2, 0, 3, 2, 3, 1, 1, 0, 3, 0, 2, 2, 2, 3, 0, 2, 1, 2, 2, 3, 0, 1, 1, 2, 2, 3, 0, 0, 0, 1, 0, 0, 0, 0, 3, 3, 2, 0, 0, 1, 0, 3, 1, 2, 1, 0, 2, 2, 1, 2, 2, 0, 0, 3, 3, 3, 0, 2, 0, 2, 1, 2, 2, 3, 2, 0, 2, 3, 0, 0, 3, 3, 1, 2, 0, 3, 2, 1, 2, 2, 0, 2, 0, 2, 3, 2, 0, 2, 0, 0, 2, 2, 3, 3, 0, 0, 0, 1, 0, 3, 0, 0, 0, 0, 3, 2, 3, 3, 3, 0, 0, 0, 3, 1, 0, 0, 2, 3, 1, 0, 0, 3, 3, 2, 3, 3, 1, 0, 0, 2, 0, 2, 3, 2, 1, 0, 2, 2, 3, 3, 3, 1, 2, 2, 1, 1, 0, 2, 0, 2, 1, 0, 2, 1, 3, 2, 0, 3, 1, 1, 0, 3, 2, 0, 3, 1, 3, 3, 0, 1, 2, 3, 2, 2, 0, 0, 3, 0, 2, 2, 2, 1, 0, 0, 0, 0, 0, 2, 0, 1, 3, 1, 2, 2, 3, 0, 1, 3, 2, 3, 3, 2, 0, 2, 2, 0, 3, 2, 0, 3, 2, 1, 0, 3, 3, 2, 2, 0, 0, 3, 1, 1, 1, 2, 0, 1, 1, 1, 3, 2, 1, 0, 2, 0, 3, 1, 3, 0, 2, 3, 2, 1, 2, 0, 0, 1, 3, 2, 2, 3, 3, 3, 3, 2, 3, 2, 3, 2, 3, 0, 2, 1, 2, 0, 1, 1, 3, 0, 2, 3, 0, 2, 0, 0, 1, 0, 2, 0, 3, 3, 1, 0, 3, 0, 0, 2, 1, 3, 3, 3, 3, 0, 2, 0, 3, 2, 2, 2, 0, 2, 0, 1, 1, 2, 3, 0, 0, 3, 1, 0, 2, 1, 0, 0, 0, 2, 0, 0, 3, 1, 0, 0, 3, 1, 3, 0, 3, 2, 2, 3, 0, 0, 3, 0, 0, 1, 0, 2, 0, 3, 0, 1, 2, 2, 2, 3, 2, 1, 3, 2, 2, 0, 2, 1, 3, 0, 1, 3, 0, 3, 1, 2, 0, 3, 3, 3, 0, 1, 1, 1, 3, 2, 1, 1, 1, 2, 0, 2, 1, 0, 1, 2, 0, 2, 3, 0, 3, 2, 0, 0, 3, 3, 0, 1, 1, 3, 1, 0, 1, 0, 0, 2, 1, 2, 2, 3, 0, 1, 3, 1, 0, 3, 1, 1, 2, 0, 2, 2, 2, 2, 3, 3, 2, 2, 1, 3, 2, 0, 2, 0, 3, 3, 2, 1, 2, 3, 3, 3, 2, 1, 0, 1, 3, 0, 0, 2, 3, 1, 1, 2, 3, 3, 2, 0, 0, 2, 0, 3, 3, 2, 2, 0, 0, 0, 2, 2, 0, 2, 3, 1, 3, 0, 0, 3, 0, 0, 3, 0, 0, 2, 1, 0, 3, 2, 3, 2, 3, 1, 2, 0, 3, 1, 2, 3, 2, 3, 2, 2, 0, 2, 0, 0, 3, 3, 0, 2, 2, 1, 3, 3, 1, 3, 3, 3, 1, 3, 2, 3, 0, 0, 3, 1, 0, 1, 1, 3, 0, 3, 3, 0, 3, 1, 2, 1, 2, 3, 3, 2, 3, 2, 3, 1, 3, 0, 0, 2, 2, 0, 1, 2, 1, 0, 1, 0, 0, 1, 2, 1, 0, 2, 3, 0, 0, 3, 1, 3, 1, 0, 0, 3, 3, 1, 0, 2, 2, 1, 3, 3, 1, 1, 0, 3, 2, 3, 3, 3, 3, 1, 2, 0, 2, 3, 2, 3, 3, 0, 0, 0, 3, 3, 0, 2, 0, 3, 1, 2, 3, 2, 2, 3, 3, 3, 2, 3, 3, 0, 2, 0, 3, 3, 3, 1, 1, 1, 0, 2, 0, 0, 3, 0, 3, 1, 3, 3, 0, 2, 2, 0, 3, 3, 2, 3, 0, 0, 3, 2, 3, 0, 1, 0, 1, 3, 3, 1, 1, 3, 3, 0, 0, 2, 1, 1, 1, 2, 2, 3, 1, 3, 0, 3, 2, 2, 1, 1, 2, 3, 0, 0, 3, 0, 2, 2, 0, 2, 1, 3, 3, 1, 1, 0, 1, 1, 2, 0, 0, 1, 1, 1, 2, 0, 3, 0, 3, 2, 1, 0, 3, 2, 0, 3, 3, 3, 3, 1, 3, 1, 2, 3, 0, 1, 0, 0, 3, 0, 3, 0, 1, 0, 1, 2, 3, 0, 3, 3, 0, 2, 1, 2, 3, 0, 2, 3, 3, 0, 3, 1, 2, 2, 2, 0, 0, 2, 2, 3, 1, 0, 0, 0, 0, 0, 0, 1, 1, 0, 3, 3, 1, 2, 1, 3, 1, 2, 3, 0, 0, 3, 1, 3, 1, 0, 0, 2, 2, 0, 0, 2, 0, 2, 2, 2, 0, 2, 3, 2, 2, 2, 0, 1, 0, 2, 2, 0, 2, 3, 3, 3, 1, 0, 1, 0, 2, 0, 0, 3, 1, 0, 1, 3, 2, 2, 3, 2, 1, 0, 0, 3, 0, 2, 3, 3, 2, 3, 2, 0, 1, 2, 1, 3, 0, 0, 3, 3, 1, 3, 0, 3, 0, 0, 0, 0, 1, 1, 1, 3, 3, 0, 2, 3, 3, 2, 3, 0, 0, 3, 1, 1, 3, 2, 0, 1, 2, 3, 1, 1, 1, 0, 3, 2, 1, 3, 0, 3, 2, 3, 3, 1, 3, 2, 0, 3, 1, 1, 1, 1, 1, 3, 3, 2, 2, 1, 0, 0, 3, 2, 0, 1, 0, 1, 2, 1, 1, 3, 1, 2, 3, 2, 1, 3, 3, 2, 1, 3, 1, 1, 0, 1, 1, 3, 2, 2, 0, 0, 0, 3, 0, 3, 0, 3, 3, 3, 2, 3, 3, 0, 1, 0, 1, 0, 0, 1, 0, 1, 1, 2, 1, 3, 1, 1, 2, 2, 2, 1, 2, 1, 0, 3, 3, 1, 3, 0, 0, 3, 3, 2, 3, 3, 3, 3, 0, 3, 3, 3, 3, 3, 1, 3, 0, 2, 1, 3, 3, 0, 0, 0, 0, 0, 3, 0, 0, 1, 2, 3, 3, 0, 1, 0, 3, 0, 2, 2, 0, 1, 2, 0, 2, 2, 2, 3, 1, 2, 2, 0, 0, 1, 1, 2, 1, 3, 0, 1, 2, 0, 3, 0, 3, 0, 1, 0, 3, 2, 1, 1, 3, 1, 2, 2, 0, 2, 0, 0, 0, 1, 0, 1, 1, 1, 3, 2, 1, 3, 3, 2, 3, 3, 1, 3, 0, 0, 1, 0, 3, 1, 2, 0, 1, 2, 2, 1, 0, 0, 2, 1, 3, 1, 3, 1, 0, 2, 2, 1, 1, 2, 1, 0, 0, 2, 0, 1, 0, 1, 3, 2, 2, 1, 0, 2, 0, 0, 3, 0, 3, 3, 1, 1, 2, 0, 1, 3, 3, 1, 1, 3, 1, 3, 0, 2, 0, 0, 1, 0, 2, 3, 2, 2, 1, 3, 0, 0, 0, 2, 1, 0, 1, 0, 2, 0, 3, 1, 0, 0, 0, 3, 1, 2, 3, 2, 0, 1, 3, 1, 2, 3, 3, 1, 3, 3, 2, 1, 0, 0, 1, 0, 1, 3, 0, 2, 1, 3, 0, 3, 1, 0, 1, 1, 0, 3, 3, 3, 3, 3, 3, 3, 1, 3, 2, 0, 2, 3, 3, 3, 0, 3, 2, 3, 3, 3, 1, 0, 2, 1, 1, 1, 0, 0, 2, 3, 0, 2, 3, 1, 2, 3, 0, 3, 3, 0, 1, 1, 3, 3, 2, 2, 0, 0, 3, 0, 2, 1, 3, 2, 1, 2, 2, 1, 3, 3, 3, 2, 1, 3, 0, 1, 1, 3, 2, 1, 0, 2, 3, 3, 3, 1, 1, 2, 2, 0, 3, 0, 1, 3, 0, 0, 0, 3, 1, 1, 0, 3, 1, 0, 1, 1, 3, 0, 2, 3, 1, 2, 2, 1, 2, 2, 0, 2, 1, 1, 1, 3, 2, 1, 0, 3, 2, 3, 3, 3, 2, 2, 3, 3, 1, 0, 3, 1, 0, 3, 1, 0, 3, 1, 2, 1, 1, 0, 2, 1, 3, 0, 2, 0, 3, 3, 1, 1, 2, 1, 1, 3, 2, 3, 0, 0, 1, 0, 3, 2, 2, 0, 3, 0, 1, 3, 1, 0, 1, 0, 0, 1, 3, 1, 0, 3, 1, 0, 1, 3, 2, 2, 0, 3, 1, 0, 3, 0, 0, 3, 1, 0, 3, 0, 2, 2, 3, 1, 2, 3, 2, 3, 2, 1, 0, 1, 3, 1, 3, 3, 1, 0, 3, 0, 0, 2, 0, 1, 2, 3, 0, 0, 3, 0, 3, 0, 0, 0, 2, 0, 3, 2, 2, 0, 2, 0, 3, 3, 0, 3, 0, 3, 1, 3, 1, 1, 0, 2, 1, 3, 2, 0, 2, 0, 3, 0, 3, 0, 0, 0, 2, 1, 3, 1, 0, 3, 2, 2, 2, 2, 0, 3, 2, 1, 2, 3, 1, 0, 0, 2, 1, 2, 1, 3, 2, 1, 3, 2, 0, 1, 0, 3, 2, 3, 0, 3, 2, 0, 0, 0, 1, 3, 0, 3, 3, 3, 0, 2, 1, 1, 0, 3, 2, 3, 0, 2, 1, 1, 3, 2, 2, 0, 3, 3, 1, 2, 2, 2, 0, 3, 1, 2, 2, 1, 2, 0, 2, 0, 0, 3, 1, 2, 2, 0, 0, 2, 3, 0, 0, 0, 0, 0, 3, 2, 2, 1, 1, 0, 3, 0, 0, 1, 2, 3, 2, 1, 3, 1, 3, 0, 1, 0, 1, 1, 2, 3, 0, 0, 1, 1, 1, 2, 0, 3, 1, 3, 3, 3, 0, 1, 0, 0, 0, 1, 0, 3, 3, 3, 2, 1, 2, 3, 1, 2, 0, 0, 0, 0, 1, 0, 3, 2, 3, 3, 1, 1, 3, 3, 0, 2, 3, 1, 1, 0, 2, 3, 3, 2, 2, 2, 2, 2, 3, 2, 0, 0, 0, 0, 2, 3, 2, 0, 1, 0, 3, 0, 0, 3, 0, 0, 1, 3, 1, 1, 3, 0, 0, 1, 3, 0, 0, 3, 3, 2, 2, 1, 0, 3, 0, 3, 0, 2, 1, 1, 3, 2, 3, 2, 0, 1, 3, 0, 3]\n"
          ]
        }
      ]
    },
    {
      "cell_type": "code",
      "source": [
        "y_true = np.concatenate([y for x, y in test_ds])\n",
        "y_true = np.argmax(y_true, axis=1)\n",
        "\n",
        "print(y_true)"
      ],
      "metadata": {
        "colab": {
          "base_uri": "https://localhost:8080/"
        },
        "id": "h4hnAJDZQGbt",
        "outputId": "67f8837b-e4bc-4ff1-ff8d-a9807135869b"
      },
      "execution_count": 71,
      "outputs": [
        {
          "output_type": "stream",
          "name": "stdout",
          "text": [
            "[2 0 0 ... 3 1 3]\n"
          ]
        }
      ]
    },
    {
      "cell_type": "code",
      "execution_count": 72,
      "metadata": {
        "colab": {
          "base_uri": "https://localhost:8080/"
        },
        "id": "5tRInI0dqWfP",
        "outputId": "cab15950-cc32-4e81-e1e4-56d4878f16f5"
      },
      "outputs": [
        {
          "output_type": "stream",
          "name": "stdout",
          "text": [
            "              precision    recall  f1-score   support\n",
            "\n",
            "           0       0.37      0.29      0.32      1825\n",
            "           1       0.25      0.20      0.22      1216\n",
            "           2       0.22      0.23      0.23      1139\n",
            "           3       0.15      0.25      0.18       797\n",
            "\n",
            "    accuracy                           0.25      4977\n",
            "   macro avg       0.25      0.24      0.24      4977\n",
            "weighted avg       0.27      0.25      0.25      4977\n",
            "\n"
          ]
        }
      ],
      "source": [
        "\n",
        "print(classification_report(y_true, pred_rgb_1))"
      ]
    },
    {
      "cell_type": "code",
      "execution_count": 73,
      "metadata": {
        "id": "7887b475"
      },
      "outputs": [],
      "source": [
        "tf.keras.backend.clear_session()\n",
        "\n",
        "np.random.seed(0)\n",
        "tf.random.set_seed(0)\n",
        "random.seed(0)"
      ]
    },
    {
      "cell_type": "code",
      "execution_count": 85,
      "metadata": {
        "id": "h9BmJu69srLP"
      },
      "outputs": [],
      "source": [
        "\n",
        "def cnn_model_rgb_2():\n",
        "    model = Sequential()\n",
        "\n",
        "    model.add(tf.keras.layers.Rescaling(1./255))\n",
        "\n",
        "    model.add(Conv2D(16, kernel_size=(3, 3), padding='same', input_shape=(48, 48, 1)))\n",
        "    model.add(LeakyReLU(alpha=0.1))\n",
        "\n",
        "    model.add(Conv2D(32, kernel_size=(3, 3), padding='same'))\n",
        "    model.add(LeakyReLU(alpha=0.1))\n",
        "\n",
        "    model.add(MaxPooling2D(pool_size=(2, 2)))\n",
        "\n",
        "    model.add(BatchNormalization())\n",
        "\n",
        "    model.add(Conv2D(32, kernel_size=(3, 3), padding='same'))\n",
        "    model.add(LeakyReLU(alpha=0.1))\n",
        "\n",
        "    model.add(Conv2D(64, kernel_size=(3, 3), padding='same'))\n",
        "    model.add(LeakyReLU(alpha=0.1))\n",
        "\n",
        "    model.add(MaxPooling2D(pool_size=(2, 2)))\n",
        "\n",
        "    model.add(BatchNormalization())\n",
        "\n",
        "    model.add(Flatten())\n",
        "\n",
        "    model.add(Dense(32))\n",
        "    model.add(LeakyReLU(alpha=0.1))\n",
        "\n",
        "    model.add(Dropout(0.5))\n",
        "\n",
        "    model.add(Dense(4, activation='softmax'))\n",
        "\n",
        "    model.compile(optimizer=Adam(learning_rate=0.001),\n",
        "                  loss='categorical_crossentropy',\n",
        "                  metrics=['accuracy'])\n",
        "\n",
        "    return model\n",
        "\n",
        "\n",
        "model_rgb_2 = cnn_model_rgb_2()\n"
      ]
    },
    {
      "cell_type": "markdown",
      "metadata": {
        "id": "T2d7wYiTk5uW"
      },
      "source": [
        "### **Compiling and Training the Model**"
      ]
    },
    {
      "cell_type": "code",
      "execution_count": 87,
      "metadata": {
        "colab": {
          "base_uri": "https://localhost:8080/"
        },
        "id": "5f79add6",
        "outputId": "bd1efffe-f876-40ac-d672-2420a9d32ba2"
      },
      "outputs": [
        {
          "output_type": "stream",
          "name": "stdout",
          "text": [
            "Epoch 1/20\n",
            "23/23 [==============================] - 1s 21ms/step - loss: 1.2244 - accuracy: 0.4674 - val_loss: 1.2222 - val_accuracy: 0.4278\n",
            "Epoch 2/20\n",
            "23/23 [==============================] - 0s 22ms/step - loss: 1.2418 - accuracy: 0.4755 - val_loss: 1.3920 - val_accuracy: 0.3181\n",
            "Epoch 3/20\n",
            "23/23 [==============================] - 0s 21ms/step - loss: 1.2024 - accuracy: 0.4946 - val_loss: 1.3871 - val_accuracy: 0.4089\n",
            "Epoch 4/20\n",
            "23/23 [==============================] - 0s 21ms/step - loss: 1.2216 - accuracy: 0.4701 - val_loss: 1.8103 - val_accuracy: 0.3707\n",
            "Epoch 5/20\n",
            "23/23 [==============================] - 0s 21ms/step - loss: 1.2116 - accuracy: 0.4701 - val_loss: 1.2618 - val_accuracy: 0.4000\n",
            "Epoch 6/20\n",
            "23/23 [==============================] - 0s 21ms/step - loss: 1.2047 - accuracy: 0.4715 - val_loss: 1.2041 - val_accuracy: 0.4858\n",
            "Epoch 7/20\n",
            "23/23 [==============================] - 0s 21ms/step - loss: 1.1326 - accuracy: 0.5272 - val_loss: 1.1799 - val_accuracy: 0.4467\n",
            "Epoch 8/20\n",
            "23/23 [==============================] - 0s 21ms/step - loss: 1.1080 - accuracy: 0.5312 - val_loss: 1.3427 - val_accuracy: 0.3663\n",
            "Epoch 9/20\n",
            "23/23 [==============================] - 0s 21ms/step - loss: 1.0557 - accuracy: 0.5611 - val_loss: 1.0894 - val_accuracy: 0.5459\n",
            "Epoch 10/20\n",
            "23/23 [==============================] - 0s 21ms/step - loss: 1.1509 - accuracy: 0.4918 - val_loss: 1.0447 - val_accuracy: 0.5475\n",
            "Epoch 11/20\n",
            "23/23 [==============================] - 0s 21ms/step - loss: 1.0910 - accuracy: 0.5245 - val_loss: 1.2053 - val_accuracy: 0.4874\n",
            "Epoch 12/20\n",
            "23/23 [==============================] - 0s 21ms/step - loss: 1.1249 - accuracy: 0.5217 - val_loss: 1.1173 - val_accuracy: 0.4890\n",
            "Epoch 13/20\n",
            "23/23 [==============================] - 0s 21ms/step - loss: 1.0225 - accuracy: 0.5462 - val_loss: 1.0623 - val_accuracy: 0.5383\n",
            "Epoch 14/20\n",
            "23/23 [==============================] - 0s 21ms/step - loss: 1.0723 - accuracy: 0.5421 - val_loss: 1.0719 - val_accuracy: 0.5009\n",
            "Epoch 15/20\n",
            "23/23 [==============================] - 0s 21ms/step - loss: 1.0571 - accuracy: 0.5476 - val_loss: 1.1273 - val_accuracy: 0.5286\n",
            "Epoch 16/20\n",
            "23/23 [==============================] - 0s 21ms/step - loss: 0.9984 - accuracy: 0.5571 - val_loss: 1.2204 - val_accuracy: 0.4422\n",
            "Epoch 17/20\n",
            "23/23 [==============================] - 0s 21ms/step - loss: 1.0109 - accuracy: 0.5666 - val_loss: 1.2365 - val_accuracy: 0.4374\n",
            "Epoch 18/20\n",
            "23/23 [==============================] - 0s 21ms/step - loss: 1.0259 - accuracy: 0.5394 - val_loss: 0.9648 - val_accuracy: 0.5947\n",
            "Epoch 19/20\n",
            "23/23 [==============================] - 0s 21ms/step - loss: 0.9961 - accuracy: 0.5856 - val_loss: 1.1259 - val_accuracy: 0.4995\n",
            "Epoch 20/20\n",
            "23/23 [==============================] - 0s 21ms/step - loss: 1.0799 - accuracy: 0.5421 - val_loss: 1.0114 - val_accuracy: 0.5937\n"
          ]
        }
      ],
      "source": [
        "#Adding earlystop callback to prevent overfitting\n",
        "early_stop = EarlyStopping(monitor='val_loss', mode='min', verbose=2, patience=10)\n",
        "\n",
        "history_rgb_2 = model_rgb_2.fit(\n",
        "    train_ds,\n",
        "    validation_data = val_ds,\n",
        "    steps_per_epoch=steps_per_epoch,\n",
        "    epochs=20,\n",
        "    callbacks=[early_stop]\n",
        ")\n"
      ]
    },
    {
      "cell_type": "code",
      "execution_count": 88,
      "metadata": {
        "colab": {
          "base_uri": "https://localhost:8080/"
        },
        "id": "YBNeB-Em7xBy",
        "outputId": "a0bc079b-ab66-401f-e732-afd7e40431df"
      },
      "outputs": [
        {
          "output_type": "stream",
          "name": "stdout",
          "text": [
            "156/156 [==============================] - 0s 2ms/step\n",
            "              precision    recall  f1-score   support\n",
            "\n",
            "           0       0.36      0.42      0.38      1825\n",
            "           1       0.23      0.26      0.24      1216\n",
            "           2       0.23      0.07      0.11      1139\n",
            "           3       0.15      0.20      0.17       797\n",
            "\n",
            "    accuracy                           0.27      4977\n",
            "   macro avg       0.24      0.24      0.23      4977\n",
            "weighted avg       0.26      0.27      0.25      4977\n",
            "\n"
          ]
        }
      ],
      "source": [
        "pred_rgb_2 = model_rgb_2.predict(test_ds)\n",
        "pred_rgb_2 = [np.argmax(i) for i in pred_rgb_2]\n",
        "\n",
        "y_true = np.concatenate([y for x, y in test_ds])\n",
        "y_true = np.argmax(y_true, axis=1)\n",
        "\n",
        "print(classification_report(y_true, pred_rgb_2))\n"
      ]
    },
    {
      "cell_type": "code",
      "source": [
        "plot_epoch(history_rgb_2)"
      ],
      "metadata": {
        "colab": {
          "base_uri": "https://localhost:8080/",
          "height": 460
        },
        "id": "TLU0CN8xW7QD",
        "outputId": "e609b232-1ac0-47be-bfb6-8ac134d1ceb2"
      },
      "execution_count": 91,
      "outputs": [
        {
          "output_type": "display_data",
          "data": {
            "text/plain": [
              "<Figure size 1200x600 with 1 Axes>"
            ],
            "image/png": "[encoded data removed]"
          },
          "metadata": {}
        }
      ]
    },
    {
      "cell_type": "markdown",
      "metadata": {
        "id": "vaUYQdkf7pDG"
      },
      "source": [
        "## **VGG16 Model**"
      ]
    },
    {
      "cell_type": "code",
      "execution_count": null,
      "metadata": {
        "id": "7c83c83e"
      },
      "outputs": [],
      "source": [
        "from tensorflow.keras.applications import VGG16\n",
        "from tensorflow.keras.models import Model"
      ]
    },
    {
      "cell_type": "markdown",
      "metadata": {
        "id": "X76HMyZX4edM"
      },
      "source": [
        "### **Model Building**\n"
      ]
    },
    {
      "cell_type": "code",
      "execution_count": null,
      "metadata": {
        "id": "8b123bc6"
      },
      "outputs": [],
      "source": [
        "base_model = VGG16(weights='imagenet', include_top=False, input_shape=(48, 48, 3))\n",
        "\n",
        "base_model.trainable = False\n",
        "\n",
        "#finetuning model from block5_conv1 onward\n",
        "for layer in base_model.layers[15:]:\n",
        "    layer.trainable = True\n",
        "\n",
        "\n",
        "vgg_model = tf.keras.Sequential([\n",
        "    base_model,\n",
        "    tf.keras.layers.Conv2D(32, 3, activation='relu'),\n",
        "    tf.keras.layers.Dropout(0.2),\n",
        "    tf.keras.layers.GlobalAveragePooling2D(),\n",
        "    tf.keras.layers.Dense(4, activation='softmax')\n",
        "])\n",
        "\n",
        "\n"
      ]
    },
    {
      "cell_type": "markdown",
      "metadata": {
        "id": "t6vK7u7w8GsM"
      },
      "source": [
        "### **Compiling and Training the VGG16 Model**"
      ]
    },
    {
      "cell_type": "code",
      "execution_count": null,
      "metadata": {
        "id": "86b249f1"
      },
      "outputs": [],
      "source": [
        "vgg_model.compile(optimizer='adam', loss='categorical_crossentropy', metrics=['accuracy'])\n",
        "\n",
        "vgg_model.summary()\n",
        "\n",
        "history_vgg = vgg_model.fit(\n",
        "    train_ds,\n",
        "    validation_data = val_ds,\n",
        "    steps_per_epoch=steps_per_epoch,\n",
        "    epochs=20,\n",
        "    callbacks=[early_stop]\n",
        ")"
      ]
    },
    {
      "cell_type": "markdown",
      "metadata": {
        "id": "Un-19jPckK07"
      },
      "source": [
        "### **Evaluating the VGG16 model**"
      ]
    },
    {
      "cell_type": "code",
      "execution_count": null,
      "metadata": {
        "id": "t6Y_bSLCkcvr"
      },
      "outputs": [],
      "source": [
        "\n",
        "epoch_plot(history_vgg)\n",
        "\n",
        "pred_vgg = model_vgg.predict(test_ds)\n",
        "pred_vgg = [np.argmax(i) for i in pred_vgg]\n",
        "\n",
        "y_true = np.concatenate([y for x, y in test_ds])\n",
        "y_true = np.argmax(y_true, axis=1)\n",
        "\n",
        "print(classification_report(y_true, pred_vgg))"
      ]
    },
    {
      "cell_type": "markdown",
      "metadata": {
        "id": "E0Mew4Cc7u7k"
      },
      "source": [
        "## **ResNet V2 Model**"
      ]
    },
    {
      "cell_type": "code",
      "execution_count": null,
      "metadata": {
        "id": "568a5c9a",
        "scrolled": false
      },
      "outputs": [],
      "source": [
        "from tensorflow.keras.applications import ResNet50V2\n",
        "from tensorflow.keras.layers import GlobalAveragePooling2D\n",
        "\n",
        "tf.keras.backend.clear_session()\n",
        "\n",
        "np.random.seed(0)\n",
        "tf.random.set_seed(0)\n",
        "random.seed(0)"
      ]
    },
    {
      "cell_type": "markdown",
      "metadata": {
        "id": "ay4RedCQlL4O"
      },
      "source": [
        "### **Model Building**\n",
        "\n"
      ]
    },
    {
      "cell_type": "code",
      "execution_count": null,
      "metadata": {
        "id": "911d3335"
      },
      "outputs": [],
      "source": [
        "base_model = ResNet50V2(weights='imagenet', include_top=False, input_shape=(224, 224, 3))\n",
        "layer_name = 'conv5_block3_out'\n",
        "desired_layer = base_model.get_layer(layer_name)\n",
        "\n",
        "x = desired_layer.output\n",
        "x = GlobalAveragePooling2D()(x)\n",
        "x = Dense(1024, activation='relu')(x)\n",
        "predictions = Dense(4, activation='softmax')(x)\n",
        "\n",
        "final_model = Model(inputs=base_model.input, outputs=predictions)"
      ]
    },
    {
      "cell_type": "markdown",
      "metadata": {
        "id": "Tmtcd1ZElpJy"
      },
      "source": [
        "### **Compiling and Training the Model**"
      ]
    },
    {
      "cell_type": "code",
      "execution_count": null,
      "metadata": {
        "id": "fe959789"
      },
      "outputs": [],
      "source": [
        "early_stop = EarlyStopping(monitor='val_loss', mode='min', verbose=2, patience=10)\n",
        "final_model.compile(optimizer='adam', loss='categorical_crossentropy', metrics=['accuracy'])\n",
        "\n",
        "history_final_model = final_model.fit(\n",
        "    train_ds,\n",
        "    validation_data = val_ds,\n",
        "    steps_per_epoch=steps_per_epoch,\n",
        "    epochs=20,\n",
        "    callbacks=[early_stop]\n",
        ")"
      ]
    },
    {
      "cell_type": "markdown",
      "metadata": {
        "id": "McHEzBlhxw39"
      },
      "source": [
        "### **Evaluating the ResNet Model**"
      ]
    },
    {
      "cell_type": "code",
      "execution_count": null,
      "metadata": {
        "id": "IEl6IQf0xwci"
      },
      "outputs": [],
      "source": [
        "epoch_plot(history_final_model)\n",
        "\n",
        "pred_res = final_model.predict(test_ds)\n",
        "pred_ves = [np.argmax(i) for i in pred_res]\n",
        "\n",
        "y_true = np.concatenate([y for x, y in test_ds])\n",
        "y_true = np.argmax(y_true, axis=1)\n",
        "\n",
        "print(classification_report(y_true, pred_res))"
      ]
    },
    {
      "cell_type": "markdown",
      "metadata": {
        "id": "FmnDG4ZbncoR"
      },
      "source": [
        "## **EfficientNet Model**"
      ]
    },
    {
      "cell_type": "code",
      "execution_count": null,
      "metadata": {
        "id": "613c7a71"
      },
      "outputs": [],
      "source": [
        "from tensorflow.keras.applications import EfficientNetB0\n",
        "tf.keras.backend.clear_session()\n",
        "\n",
        "np.random.seed(0)\n",
        "tf.random.set_seed(0)\n",
        "random.seed(0)"
      ]
    },
    {
      "cell_type": "markdown",
      "metadata": {
        "id": "6kDNE8pVngqC"
      },
      "source": [
        "### **Model Building**\n",
        "\n"
      ]
    },
    {
      "cell_type": "code",
      "execution_count": null,
      "metadata": {
        "id": "2b27a6e1"
      },
      "outputs": [],
      "source": [
        "base_model = EfficientNetB0(weights='imagenet', include_top=False, input_shape=(224, 224, 3))\n",
        "layer_name = 'block7a_project_bn'\n",
        "desired_layer = base_model.get_layer(layer_name)\n",
        "\n",
        "x = desired_layer.output\n",
        "x = GlobalAveragePooling2D()(x)\n",
        "x = Dense(1024, activation='relu')(x)\n",
        "predictions = Dense(4, activation='softmax')(x)\n",
        "\n",
        "final_model = Model(inputs=base_model.input, outputs=predictions)"
      ]
    },
    {
      "cell_type": "markdown",
      "metadata": {
        "id": "hVv4Df_In32Y"
      },
      "source": [
        "### **Compiling and Training the Model**"
      ]
    },
    {
      "cell_type": "code",
      "execution_count": null,
      "metadata": {
        "id": "dc326cd3"
      },
      "outputs": [],
      "source": [
        "final_model.compile(optimizer='adam', loss='categorical_crossentropy', metrics=['accuracy'])\n",
        "\n",
        "history_final_model = final_model.fit(\n",
        "    train_ds,\n",
        "    validation_data = val_ds,\n",
        "    steps_per_epoch=steps_per_epoch,\n",
        "    epochs=20,\n",
        "    callbacks=[early_stop]\n",
        ")"
      ]
    },
    {
      "cell_type": "markdown",
      "metadata": {
        "id": "2xjrzYpgoQnN"
      },
      "source": [
        "### **Evaluating the EfficientnetNet Model**"
      ]
    },
    {
      "cell_type": "code",
      "execution_count": null,
      "metadata": {
        "id": "WJVFenvnoQnN"
      },
      "outputs": [],
      "source": [
        "epoch_plot(history_final_model)\n",
        "\n",
        "pred_en = final_model.predict(test_ds)\n",
        "pred_en = [np.argmax(i) for i in pred_en]\n",
        "\n",
        "y_true = np.concatenate([y for x, y in test_ds])\n",
        "y_true = np.argmax(y_true, axis=1)\n",
        "\n",
        "print(classification_report(y_true, pred_en))"
      ]
    },
    {
      "cell_type": "markdown",
      "source": [
        "\n",
        "### **More Complex CNN**\n",
        "```\n",
        "\n"
      ],
      "metadata": {
        "id": "qu50xVuIXawi"
      }
    },
    {
      "cell_type": "code",
      "execution_count": 83,
      "metadata": {
        "id": "37f9194d"
      },
      "outputs": [],
      "source": [
        "def cnn_model():\n",
        "    model = Sequential()\n",
        "\n",
        "    model.add(tf.keras.layers.Rescaling(1./255))\n",
        "\n",
        "    model.add(Conv2D(16, kernel_size=(3, 3), padding='same', input_shape=(48, 48, 1)))\n",
        "    model.add(LeakyReLU(alpha=0.1))\n",
        "\n",
        "    for i in range(5):\n",
        "      model.add(Conv2D(filters=64, kernel_size=(3,3), padding='same'))\n",
        "      model.add(BatchNormalization())\n",
        "      model.add(LeakyReLU(alpha=0.1))\n",
        "\n",
        "\n",
        "    model.add(MaxPooling2D(pool_size=(2, 2)))\n",
        "\n",
        "\n",
        "    for i in range(5):\n",
        "        model.add(Conv2D(filters=128, kernel_size=(3,3), padding='same'))\n",
        "        model.add(BatchNormalization())\n",
        "        model.add(LeakyReLU(alpha=0.1))\n",
        "\n",
        "    model.add(MaxPooling2D(pool_size=(2, 2)))\n",
        "\n",
        "\n",
        "    model.add(Flatten())\n",
        "    model.add(Dense(128, activation='relu'))\n",
        "    model.add(Dense(4, activation='softmax'))\n",
        "\n",
        "    model.compile(optimizer=Adam(learning_rate=0.001),\n",
        "                  loss='categorical_crossentropy',\n",
        "                  metrics=['accuracy'])\n",
        "\n",
        "    return model\n",
        "\n",
        "cnn_model = cnn_model()\n",
        "\n"
      ]
    },
    {
      "cell_type": "code",
      "source": [],
      "metadata": {
        "id": "028XLQ4AgzU8"
      },
      "execution_count": null,
      "outputs": []
    },
    {
      "cell_type": "markdown",
      "metadata": {
        "id": "fyc0B--hwTHS"
      },
      "source": [
        "### **Compiling and Training the Model**"
      ]
    },
    {
      "cell_type": "code",
      "execution_count": 84,
      "metadata": {
        "colab": {
          "base_uri": "https://localhost:8080/"
        },
        "id": "0edabf52",
        "outputId": "0d60db2e-52bf-4900-b630-e22d8f4f1180"
      },
      "outputs": [
        {
          "output_type": "stream",
          "name": "stdout",
          "text": [
            "Epoch 1/20\n",
            "23/23 [==============================] - 3s 51ms/step - loss: 6.8871 - accuracy: 0.2948 - val_loss: 1.5212 - val_accuracy: 0.2443\n",
            "Epoch 2/20\n",
            "23/23 [==============================] - 1s 35ms/step - loss: 1.6187 - accuracy: 0.2853 - val_loss: 1.4287 - val_accuracy: 0.2443\n",
            "Epoch 3/20\n",
            "23/23 [==============================] - 1s 36ms/step - loss: 1.4438 - accuracy: 0.2649 - val_loss: 1.4622 - val_accuracy: 0.2443\n",
            "Epoch 4/20\n",
            "23/23 [==============================] - 1s 36ms/step - loss: 1.4291 - accuracy: 0.2867 - val_loss: 1.5032 - val_accuracy: 0.2443\n",
            "Epoch 5/20\n",
            "23/23 [==============================] - 1s 35ms/step - loss: 1.4394 - accuracy: 0.2690 - val_loss: 1.4053 - val_accuracy: 0.2289\n",
            "Epoch 6/20\n",
            "23/23 [==============================] - 1s 35ms/step - loss: 1.4381 - accuracy: 0.2459 - val_loss: 1.3541 - val_accuracy: 0.3667\n",
            "Epoch 7/20\n",
            "23/23 [==============================] - 1s 35ms/step - loss: 1.4110 - accuracy: 0.2758 - val_loss: 1.4402 - val_accuracy: 0.2289\n",
            "Epoch 8/20\n",
            "23/23 [==============================] - 1s 35ms/step - loss: 1.4052 - accuracy: 0.2921 - val_loss: 1.3878 - val_accuracy: 0.2289\n",
            "Epoch 9/20\n",
            "23/23 [==============================] - 1s 35ms/step - loss: 1.3902 - accuracy: 0.2840 - val_loss: 1.3544 - val_accuracy: 0.3667\n",
            "Epoch 10/20\n",
            "23/23 [==============================] - 1s 36ms/step - loss: 1.3878 - accuracy: 0.2962 - val_loss: 1.3871 - val_accuracy: 0.2289\n",
            "Epoch 11/20\n",
            "23/23 [==============================] - 1s 35ms/step - loss: 1.3912 - accuracy: 0.3043 - val_loss: 1.3928 - val_accuracy: 0.2289\n",
            "Epoch 12/20\n",
            "23/23 [==============================] - 1s 36ms/step - loss: 1.3600 - accuracy: 0.3166 - val_loss: 1.3464 - val_accuracy: 0.3667\n",
            "Epoch 13/20\n",
            "23/23 [==============================] - 1s 36ms/step - loss: 1.3482 - accuracy: 0.3533 - val_loss: 1.3342 - val_accuracy: 0.3667\n",
            "Epoch 14/20\n",
            "23/23 [==============================] - 1s 36ms/step - loss: 1.3111 - accuracy: 0.3682 - val_loss: 1.3182 - val_accuracy: 0.3723\n",
            "Epoch 15/20\n",
            "23/23 [==============================] - 1s 36ms/step - loss: 1.2700 - accuracy: 0.3913 - val_loss: 1.3235 - val_accuracy: 0.3749\n",
            "Epoch 16/20\n",
            "23/23 [==============================] - 1s 36ms/step - loss: 1.3066 - accuracy: 0.3791 - val_loss: 1.3457 - val_accuracy: 0.3673\n",
            "Epoch 17/20\n",
            "23/23 [==============================] - 1s 35ms/step - loss: 1.2290 - accuracy: 0.4035 - val_loss: 1.2898 - val_accuracy: 0.3960\n",
            "Epoch 18/20\n",
            "23/23 [==============================] - 1s 35ms/step - loss: 1.2139 - accuracy: 0.4524 - val_loss: 1.2434 - val_accuracy: 0.4543\n",
            "Epoch 19/20\n",
            "23/23 [==============================] - 1s 35ms/step - loss: 1.2130 - accuracy: 0.4348 - val_loss: 1.2590 - val_accuracy: 0.4563\n",
            "Epoch 20/20\n",
            "23/23 [==============================] - 1s 35ms/step - loss: 1.1607 - accuracy: 0.4674 - val_loss: 1.3169 - val_accuracy: 0.3940\n"
          ]
        }
      ],
      "source": [
        "early_stop = EarlyStopping(monitor='val_loss', mode='min', verbose=2, patience=10)\n",
        "\n",
        "history_cnn_model = cnn_model.fit(\n",
        "    train_ds,\n",
        "    validation_data = val_ds,\n",
        "    steps_per_epoch=steps_per_epoch,\n",
        "    epochs=20,\n",
        "    callbacks=[early_stop]\n",
        ")"
      ]
    },
    {
      "cell_type": "code",
      "source": [
        "epoch_plot(history_cnn_model)\n",
        "\n",
        "pred_cnn = cnn_model.predict(test_ds)\n",
        "pred_cnn = [np.argmax(i) for i in pred_cnn]\n",
        "\n",
        "y_true = np.concatenate([y for x, y in test_ds])\n",
        "y_true = np.argmax(y_true, axis=1)\n",
        "\n",
        "print(classification_report(y_true, pred_cnn))"
      ],
      "metadata": {
        "id": "aCb6tEF9AS9j"
      },
      "execution_count": null,
      "outputs": []
    },
    {
      "cell_type": "code",
      "source": [
        "def test_model():\n",
        "    model = Sequential()\n",
        "\n",
        "    model.add(tf.keras.layers.Rescaling(1./255))\n",
        "\n",
        "    model.add(Conv2D(32, kernel_size=(5, 5), strides=(1, 1), input_shape=(48,48,1), activation='relu'))\n",
        "    model.add(MaxPooling2D(pool_size=(2,2)))\n",
        "\n",
        "    model.add(Conv2D(64, kernel_size=(5, 5), strides=(1, 1), activation='relu'))\n",
        "\n",
        "    model.add(MaxPooling2D(pool_size=(2,2)))\n",
        "\n",
        "\n",
        "    model.add(Flatten())\n",
        "\n",
        "\n",
        "    model.add(Dense(64, activation='relu'))\n",
        "\n",
        "    model.add(Dense(num_classes, activation='softmax'))\n",
        "\n",
        "\n",
        "    model.compile(loss='categorical_crossentropy', optimizer = 'adam', metrics=[\"accuracy\"])\n",
        "\n",
        "    return model\n",
        "test_model_1 = test_model()"
      ],
      "metadata": {
        "id": "jJUOYWLvg05c"
      },
      "execution_count": 98,
      "outputs": []
    },
    {
      "cell_type": "code",
      "source": [
        "history_test_model = test_model_1.fit(\n",
        "    train_ds,\n",
        "    validation_data = val_ds,\n",
        "    steps_per_epoch=steps_per_epoch,\n",
        "    epochs=20,\n",
        "    callbacks=[early_stop]\n",
        ")"
      ],
      "metadata": {
        "colab": {
          "base_uri": "https://localhost:8080/"
        },
        "id": "2E6lX-qshdZa",
        "outputId": "01c2fef5-1514-4a0d-8ea9-76356449311c"
      },
      "execution_count": 99,
      "outputs": [
        {
          "output_type": "stream",
          "name": "stdout",
          "text": [
            "Epoch 1/20\n",
            "23/23 [==============================] - 3s 27ms/step - loss: 1.3863 - accuracy: 0.2622 - val_loss: 1.4275 - val_accuracy: 0.2289\n",
            "Epoch 2/20\n",
            "23/23 [==============================] - 0s 20ms/step - loss: 1.3705 - accuracy: 0.2867 - val_loss: 1.3306 - val_accuracy: 0.2753\n",
            "Epoch 3/20\n",
            "23/23 [==============================] - 0s 19ms/step - loss: 1.3151 - accuracy: 0.3709 - val_loss: 1.3170 - val_accuracy: 0.3954\n",
            "Epoch 4/20\n",
            "23/23 [==============================] - 0s 19ms/step - loss: 1.2717 - accuracy: 0.4130 - val_loss: 1.2420 - val_accuracy: 0.4197\n",
            "Epoch 5/20\n",
            "23/23 [==============================] - 0s 19ms/step - loss: 1.2327 - accuracy: 0.4280 - val_loss: 1.2071 - val_accuracy: 0.4730\n",
            "Epoch 6/20\n",
            "23/23 [==============================] - 0s 19ms/step - loss: 1.1878 - accuracy: 0.4701 - val_loss: 1.2330 - val_accuracy: 0.4306\n",
            "Epoch 7/20\n",
            "23/23 [==============================] - 0s 19ms/step - loss: 1.1845 - accuracy: 0.4891 - val_loss: 1.1805 - val_accuracy: 0.5047\n",
            "Epoch 8/20\n",
            "23/23 [==============================] - 0s 19ms/step - loss: 1.1777 - accuracy: 0.4864 - val_loss: 1.1202 - val_accuracy: 0.5188\n",
            "Epoch 9/20\n",
            "23/23 [==============================] - 0s 19ms/step - loss: 1.0977 - accuracy: 0.5258 - val_loss: 1.0738 - val_accuracy: 0.5628\n",
            "Epoch 10/20\n",
            "23/23 [==============================] - 0s 19ms/step - loss: 1.1324 - accuracy: 0.5095 - val_loss: 1.0750 - val_accuracy: 0.5521\n",
            "Epoch 11/20\n",
            "23/23 [==============================] - 0s 19ms/step - loss: 1.1124 - accuracy: 0.5190 - val_loss: 1.0818 - val_accuracy: 0.5473\n",
            "Epoch 12/20\n",
            "23/23 [==============================] - 0s 19ms/step - loss: 1.1185 - accuracy: 0.5272 - val_loss: 1.1188 - val_accuracy: 0.5190\n",
            "Epoch 13/20\n",
            "23/23 [==============================] - 0s 20ms/step - loss: 1.1236 - accuracy: 0.5217 - val_loss: 1.0636 - val_accuracy: 0.5620\n",
            "Epoch 14/20\n",
            "23/23 [==============================] - 0s 20ms/step - loss: 1.0679 - accuracy: 0.5435 - val_loss: 1.0240 - val_accuracy: 0.5801\n",
            "Epoch 15/20\n",
            "23/23 [==============================] - 0s 20ms/step - loss: 1.0104 - accuracy: 0.5815 - val_loss: 1.0726 - val_accuracy: 0.5387\n",
            "Epoch 16/20\n",
            "23/23 [==============================] - 0s 20ms/step - loss: 1.0713 - accuracy: 0.5408 - val_loss: 1.0300 - val_accuracy: 0.5779\n",
            "Epoch 17/20\n",
            "23/23 [==============================] - 0s 20ms/step - loss: 1.0094 - accuracy: 0.5720 - val_loss: 1.0705 - val_accuracy: 0.5381\n",
            "Epoch 18/20\n",
            "23/23 [==============================] - 0s 20ms/step - loss: 1.0585 - accuracy: 0.5435 - val_loss: 1.0442 - val_accuracy: 0.5628\n",
            "Epoch 19/20\n",
            "23/23 [==============================] - 0s 20ms/step - loss: 1.0169 - accuracy: 0.5761 - val_loss: 1.0030 - val_accuracy: 0.5773\n",
            "Epoch 20/20\n",
            "23/23 [==============================] - 0s 19ms/step - loss: 1.0146 - accuracy: 0.5761 - val_loss: 1.0179 - val_accuracy: 0.5773\n"
          ]
        }
      ]
    },
    {
      "cell_type": "markdown",
      "metadata": {
        "id": "BbAqrAQQVjIR"
      },
      "source": [
        "### **Evaluating the Model on Test Set**"
      ]
    },
    {
      "cell_type": "code",
      "execution_count": null,
      "metadata": {
        "id": "uO26AYRuVm7F"
      },
      "outputs": [],
      "source": [
        "epoch_plot(history_test_model)\n",
        "\n",
        "pred_test = model_vgg.predict(test_ds)\n",
        "pred_test = [np.argmax(i) for i in pred_test]\n",
        "\n",
        "y_true = np.concatenate([y for x, y in test_ds])\n",
        "y_true = np.argmax(y_true, axis=1)\n",
        "\n",
        "print(classification_report(y_true, pred_test))\n",
        "\n"
      ]
    },
    {
      "cell_type": "markdown",
      "metadata": {
        "id": "GNWc6agwxJ_z"
      },
      "source": [
        "### **Plotting the Confusion Matrix for the chosen final model**"
      ]
    },
    {
      "cell_type": "code",
      "execution_count": null,
      "metadata": {
        "id": "SFTRyIk-yjoQ"
      },
      "outputs": [],
      "source": [
        "sns.set_style(\"dark\")\n",
        "\n",
        "plt.figure(figsize = (15, 8))\n",
        "\n",
        "plt.title(\"Confusion Matrix - Model 2\")\n",
        "\n",
        "cm = confusion_matrix(y_true, pred_test)\n",
        "\n",
        "sns.heatmap(cm, annot = True, cmap = \"cool\", fmt = 'g', cbar = False)\n",
        "\n",
        "plt.xlabel(\"ACTUAL VALUES\")\n",
        "plt.ylabel(\"PREDICTED VALUES\")\n",
        "\n",
        "plt.show()"
      ]
    }
  ],
  "metadata": {
    "accelerator": "GPU",
    "colab": {
      "machine_shape": "hm",
      "provenance": [],
      "gpuType": "A100"
    },
    "kernelspec": {
      "display_name": "Python 3",
      "name": "python3"
    },
    "language_info": {
      "codemirror_mode": {
        "name": "ipython",
        "version": 3
      },
      "file_extension": ".py",
      "mimetype": "text/x-python",
      "name": "python",
      "nbconvert_exporter": "python",
      "pygments_lexer": "ipython3",
      "version": "3.9.7"
    }
  },
  "nbformat": 4,
  "nbformat_minor": 0
}